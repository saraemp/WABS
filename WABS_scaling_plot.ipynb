{
 "cells": [
  {
   "cell_type": "code",
   "execution_count": null,
   "metadata": {},
   "outputs": [],
   "source": [
    "%matplotlib inline\n",
    "import numpy as np\n",
    "import pandas as pd\n",
    "import matplotlib.pyplot as plt\n",
    "from scipy import stats\n",
    "%matplotlib inline\n",
    "from scipy.optimize import*\n",
    "from numpy import*"
   ]
  },
  {
   "cell_type": "code",
   "execution_count": null,
   "metadata": {},
   "outputs": [],
   "source": [
    "Milliken=pd.read_table(\"/Users/smoron/Documents/Data/Hydro&Climatedata/Milliken_ea_GEOSPHERE_forpython.csv\",  sep=\",\")\n",
    "Milliken = pd.DataFrame(Milliken, columns = Milliken.columns)\n",
    "#print  (Milliken.columns)"
   ]
  },
  {
   "cell_type": "code",
   "execution_count": null,
   "metadata": {},
   "outputs": [],
   "source": [
    "Somme=pd.read_table('/Users/smoron/Documents/Data/Source_to_sink_measurements/Somme_etal_2009.csv', header=0, sep=\",\")\n",
    "Somme_df = pd.DataFrame(Somme, columns = Somme.columns)\n",
    "\n",
    "Nyberg_Qs1MT_yr=pd.read_table('/Users/smoron/Documents/Data/Source_to_sink_measurements/Nyberg_Qs>1MT_yr.csv',  header=0, sep=\",\")\n",
    "df = pd.DataFrame(Nyberg_Qs1MT_yr, columns = Nyberg_Qs1MT_yr.columns)\n",
    "#print (Nyberg_Qs1MT_yr.columns)"
   ]
  },
  {
   "cell_type": "code",
   "execution_count": null,
   "metadata": {},
   "outputs": [],
   "source": [
    "fig= plt.subplots( figsize=(7.8,7.8/2))# This size is in inches\n",
    "plt.subplot(1,2,1)\n",
    "#plt.ylim([-0.5,12.5])\n",
    "\n",
    "plt.loglog(Milliken.Thickness_m, Milliken.Contributing_Drainage_Area_km2, 'o',c=(0,0,0,.5))\n",
    "plt.xlabel('Channel Belt Thickness (m)')\n",
    "plt.ylabel('Drainage area (km2)')\n",
    "plt.grid(color='grey')\n",
    "x=Milliken.Thickness_m\n",
    "y=249*pow(x,2.44)\n",
    "P90Martin=41.3\n",
    "plt.plot(x, y, c='k', label='y=249x^2.44')\n",
    "plt.plot(P90Martin, 249*pow(P90Martin,2.44),\"*\", c='r', markersize=12)\n",
    "plt.rc('xtick', labelsize=7)    \n",
    "plt.rc('ytick', labelsize=7) \n",
    "\n",
    "############\n",
    "plt.subplot(1,2,2)\n",
    "m, c=np.polyfit(log(df.Area/1e6), log(df.River_L/1e3), 1) # getting the intercept and the slope\n",
    "y_fit = np.exp(m*log(df.Area/1e6) + c) # calculate the fitted values of y \n",
    "plt.loglog(df.Area/1e6,df.River_L/1e3,'bo', c=(0,0,0,.5), label='Nyberg et al., 2018')\n",
    "plt.loglog(df.Area[df.Structure_=='Passive Margin']/1e6,df.River_L[df.Structure_=='Passive Margin']/1e3,'bo', c=(0,0,0,.5), label='Nyberg et al., 2018')\n",
    "plt.plot(df.Area/1e6, y_fit, c=(.7, .7, .7), label='y=76196 x^0.55')\n",
    "# #Somme\n",
    "x=Somme['Catchment area\\n(× 106 km2)']\n",
    "y=Somme['Length of longest\\nriver channel (km)']\n",
    "x.nna=x[~np.isnan(x)]#;print x.nna\n",
    "y.nna=y[~np.isnan(y)]#; print y.nna\n",
    "x=np.array(x.nna)\n",
    "y=np.array(y.nna)\n",
    "mS, cS=np.polyfit(log(x), log(y), 1) # getting the intercept and the slope\n",
    "y_fit_S= np.exp(mS*log(x) + cS) # calculate the fitted values of y \n",
    "#Plot\n",
    "plt.grid(color='grey')\n",
    "plt.loglog(x,y,'o', c=(1,0.5,0,.5), label='S2S Somme et al 2009')\n",
    "plt.plot(x, y_fit_S, c=(1,0.5,0,.5), label='y=2655.3x^0.56')\n",
    "plt.plot(1.3, 2000, 'o', c=(0, 1, 0), label='Early Paleocene Paleo-Miss')\n",
    "plt.plot(1.5, 1200, 'o', c=(0, 0, 1,.5), label='Oligocene paleo-Miss')\n",
    "Mung_CA=249*pow(P90Martin,2.44)/1e6\n",
    "plt.plot(Mung_CA, 3157* pow(Mung_CA, .54), \"*\", c='r', markersize=12)\n",
    "plt.xlabel('Catchment area(10^6 km2)')\n",
    "plt.ylabel('Length of longest river channel (km)')\n",
    "#plt.legend(loc=0)\n",
    "plt.rc('xtick', labelsize=7)    \n",
    "plt.rc('ytick', labelsize=7)  \n",
    "plt.tight_layout()\n",
    "plt.savefig(\"./WABS_scaling.pdf\")\n"
   ]
  }
 ],
 "metadata": {
  "kernelspec": {
   "display_name": "Python 2",
   "language": "python",
   "name": "python2"
  },
  "language_info": {
   "codemirror_mode": {
    "name": "ipython",
    "version": 3
   },
   "file_extension": ".py",
   "mimetype": "text/x-python",
   "name": "python",
   "nbconvert_exporter": "python",
   "pygments_lexer": "ipython3",
   "version": "3.7.0"
  }
 },
 "nbformat": 4,
 "nbformat_minor": 2
}
